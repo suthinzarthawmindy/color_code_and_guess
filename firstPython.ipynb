{
 "cells": [
  {
   "cell_type": "code",
   "execution_count": 2,
   "id": "239337c9",
   "metadata": {},
   "outputs": [
    {
     "name": "stdout",
     "output_type": "stream",
     "text": [
      "===Turn1/6+++\n",
      "Enter a 5 character word:fhkfd\n",
      " \u001b[44m  \u001b[0m \u001b[44m  \u001b[0m \u001b[44m  \u001b[0m \u001b[44m  \u001b[0m \u001b[43m  \u001b[0m \n",
      "===Turn2/6+++\n",
      "Enter a 5 character word:codes\n",
      " \u001b[42m  \u001b[0m \u001b[42m  \u001b[0m \u001b[42m  \u001b[0m \u001b[42m  \u001b[0m \u001b[42m  \u001b[0m \n",
      "You won in 2/6 turns!\n"
     ]
    }
   ],
   "source": [
    "def input_guess(character_length):\n",
    "    words= input(f\"Enter a {character_length} character word:\")\n",
    "    while character_length != len(words):\n",
    "        words= input (f\"That wasn't {character_length} chars! Try again\")\n",
    "    return words\n",
    "\n",
    "def emojified (guess,secret):\n",
    "    wordie=\" \"\n",
    "    i=0\n",
    "    for i in range(len (guess)):\n",
    "        if guess[i]== secret [i]:\n",
    "            wordie += color_code(\"g\")+ \" \"\n",
    "        else:\n",
    "            if contains_char(secret,guess[i]):\n",
    "                wordie += color_code(\"y\")+ \" \"\n",
    "            else:\n",
    "                wordie += color_code(\"b\")+ \" \"\n",
    "    return wordie\n",
    "\n",
    "def color_code (color):\n",
    "    yellow= \"\\033[43m\"\n",
    "    green= \"\\033[42m\"\n",
    "    white= \"\\033[47m\"\n",
    "    blue= \"\\033[44m\"\n",
    "    reset= \"\\033[0m\"\n",
    "\n",
    "    if color==\"y\":\n",
    "        color= yellow\n",
    "    elif color==\"g\":\n",
    "        color= green\n",
    "    elif color==\"b\":\n",
    "        color= blue\n",
    "    else:\n",
    "        pass\n",
    "    return f\"{color}  {reset}\"\n",
    "\n",
    "\n",
    "def contains_char(words, character):\n",
    "    assert len (character)==1\n",
    "    if character in words:\n",
    "        return True\n",
    "    else:\n",
    "        return False\n",
    "    \n",
    "def main ():\n",
    "    secret_data=\"codes\"\n",
    "    i=0\n",
    "    for i in range(6):\n",
    "        print(f\"===Turn{i+1}/6+++\")\n",
    "        your_data= input_guess(len(secret_data))\n",
    "        if your_data==secret_data:\n",
    "            print(emojified(your_data,secret_data))\n",
    "            print(f\"You won in {i+1}/6 turns!\")\n",
    "            break\n",
    "        else:\n",
    "            print(emojified(your_data,secret_data))\n",
    "        i+=1\n",
    "    if i>5:\n",
    "        print(\"Sorry, Try Again\")\n",
    "    \n",
    "if __name__ == \"__main__\":\n",
    "    main()"
   ]
  },
  {
   "cell_type": "code",
   "execution_count": null,
   "id": "496383df",
   "metadata": {},
   "outputs": [],
   "source": []
  },
  {
   "cell_type": "code",
   "execution_count": null,
   "id": "f5678b71",
   "metadata": {},
   "outputs": [],
   "source": []
  }
 ],
 "metadata": {
  "kernelspec": {
   "display_name": "Python 3 (ipykernel)",
   "language": "python",
   "name": "python3"
  },
  "language_info": {
   "codemirror_mode": {
    "name": "ipython",
    "version": 3
   },
   "file_extension": ".py",
   "mimetype": "text/x-python",
   "name": "python",
   "nbconvert_exporter": "python",
   "pygments_lexer": "ipython3",
   "version": "3.11.4"
  }
 },
 "nbformat": 4,
 "nbformat_minor": 5
}
